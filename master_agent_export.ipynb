{
 "cells": [
  {
   "cell_type": "markdown",
   "id": "5c922452-9b6c-4c2f-8af9-5938da41437c",
   "metadata": {},
   "source": [
    "<h2 style=\"text-align: center;\">AskAdam🏀💻🔍</h1>"
   ]
  },
  {
   "cell_type": "markdown",
   "id": "7c5c7ea5-36d7-4b2b-9095-387fd1a3184b",
   "metadata": {},
   "source": [
    "#### Install and Import Necessary Packages"
   ]
  },
  {
   "cell_type": "code",
   "execution_count": 1,
   "id": "aa01831b-a8d2-46dc-82ec-218fddeecf04",
   "metadata": {},
   "outputs": [],
   "source": [
    "# !pip install openai\n",
    "# !pip install openai==1.63.2\n",
    "# !pip install --upgrade openai\n",
    "# !python -m pip install --upgrade pip\n",
    "# !python -m pip install --force-reinstall openai\n",
    "\n",
    "# !pip install openai==0.28.0\n",
    "# !pip install pyarrow\n",
    "# !pip show openai\n",
    "# !pip show pandas\n",
    "# !pip show dotenv"
   ]
  },
  {
   "cell_type": "code",
   "execution_count": 2,
   "id": "7108238b-ffe8-4e3f-a215-61449d11a5bb",
   "metadata": {},
   "outputs": [],
   "source": [
    "# !pip install streamlit\n",
    "# !pip install tabulate"
   ]
  },
  {
   "cell_type": "code",
   "execution_count": 1,
   "id": "6438f3dd-2c0b-4ba9-b957-31e1c0be3c12",
   "metadata": {},
   "outputs": [],
   "source": [
    "import os\n",
    "import time\n",
    "import pandas as pd\n",
    "import numpy as np\n",
    "import faiss\n",
    "import openai\n",
    "from dotenv import load_dotenv\n",
    "from openai.error import RateLimitError\n",
    "from pandasql import sqldf\n",
    "from IPython.display import display, HTML"
   ]
  },
  {
   "cell_type": "markdown",
   "id": "c8f0c295-f73c-4b41-bb7f-e02334ec850e",
   "metadata": {},
   "source": [
    "#### Configure Azure OpenAI (adjust these values in your .env)"
   ]
  },
  {
   "cell_type": "code",
   "execution_count": 2,
   "id": "f00821bc-11fd-43ca-8a38-fec96ebf89d1",
   "metadata": {},
   "outputs": [],
   "source": [
    "openai.api_type = \"azure\"\n",
    "openai.api_base = \"https://your-resource-name.openai.azure.com/\"\n",
    "openai.api_version = \"2022-12-01\"  \n",
    "openai.api_key = \"your_api_key\"\n",
    "AZURE_OPENAI_EMBEDDING_DEPLOYMENT=\"your_embedding_deployment\"\n",
    "AZURE_OPENAI_CHAT_DEPLOYMENT = \"your_embedding_deployment\""
   ]
  },
  {
   "cell_type": "markdown",
   "id": "bf9838c0-52fc-4d04-87df-a10abd9190d0",
   "metadata": {},
   "source": [
    "#### Load Precomputed Dataset from Parquet, Convert Embeddings to NumPy arrays, and Select Features"
   ]
  },
  {
   "cell_type": "code",
   "execution_count": 3,
   "id": "93ead7c2-55a5-48e7-8106-0365b6998d77",
   "metadata": {},
   "outputs": [],
   "source": [
    "def load_vectorized_data(parquet_path='master_agent_data_with_embeddings.parquet'):\n",
    "    \"\"\"Load the precomputed dataset from Parquet and convert embeddings to NumPy arrays.\"\"\"\n",
    "    df = pd.read_parquet(parquet_path)\n",
    "    return df"
   ]
  },
  {
   "cell_type": "code",
   "execution_count": 4,
   "id": "5c310d24-43f4-47d7-bd32-e17e3ad40a74",
   "metadata": {},
   "outputs": [],
   "source": [
    "df = load_vectorized_data()"
   ]
  },
  {
   "cell_type": "code",
   "execution_count": 5,
   "id": "fba73fda-6ba1-4a4e-8d91-beb936b497ed",
   "metadata": {},
   "outputs": [],
   "source": [
    "df_new = df[[ \"TEAM\", \"CONF\", \"DIVISION\", \"GP\", \"PPG\", \"oPPG\", \"pDIFF\", \"PACE\", \"oEFF\", \"dEFF\", \"W\", \"L\", \"WIN%\", \"SEASON\", \"embedding\"]]"
   ]
  },
  {
   "cell_type": "code",
   "execution_count": 6,
   "id": "aaba1bd0-b9bd-4891-958f-de7aa661ef30",
   "metadata": {},
   "outputs": [],
   "source": [
    "# df_new.columns = ['TEAM', 'CONF', 'DIVISION', 'GP', 'PPG', 'SEASON', 'embedding']"
   ]
  },
  {
   "cell_type": "markdown",
   "id": "a937a3f9-f407-46a4-bb14-9abbd90d3d34",
   "metadata": {},
   "source": [
    "#### Function to Load OpenAI Model and Get SQL Query as a Response"
   ]
  },
  {
   "cell_type": "code",
   "execution_count": 7,
   "id": "7b9b3a10-e4a5-4d05-a7d1-63e7961a28d9",
   "metadata": {},
   "outputs": [],
   "source": [
    "def get_openai_response(question, prompt):\n",
    "    messages = [\n",
    "        {\"role\": \"system\", \"content\": prompt[0]},\n",
    "        {\"role\": \"user\", \"content\": question}\n",
    "    ]\n",
    "    response = openai.ChatCompletion.create(\n",
    "        engine=AZURE_OPENAI_CHAT_DEPLOYMENT,  # Use your Azure chat deployment name\n",
    "        messages=messages,\n",
    "        temperature=0.2\n",
    "    )\n",
    "    return response['choices'][0]['message']['content'].strip()"
   ]
  },
  {
   "cell_type": "markdown",
   "id": "cecaef9d-9aaf-4837-b955-19d15f0df3b5",
   "metadata": {},
   "source": [
    "#### Function to Retrieve Query from The Pandas DataFrame Using SQL"
   ]
  },
  {
   "cell_type": "code",
   "execution_count": 8,
   "id": "b5f2386e-708a-4436-93dc-9e26ac6439b7",
   "metadata": {},
   "outputs": [],
   "source": [
    "def run_sql_query(sql, df_new):\n",
    "    return sqldf(sql, locals())"
   ]
  },
  {
   "cell_type": "markdown",
   "id": "b3e60a45-5702-46a1-aaad-a050c5ce26d8",
   "metadata": {},
   "source": [
    "#### Define Prompt for Generating SQL Query"
   ]
  },
  {
   "cell_type": "code",
   "execution_count": 9,
   "id": "5fd80dcc-4b6d-4817-8a67-ee9058221032",
   "metadata": {},
   "outputs": [],
   "source": [
    "prompt = [\n",
    "    \"\"\"\n",
    "    Sir, you are an expert in converting English questions to SQL query!\n",
    "    The SQL table is named 'df_new' and has the following columns -  \"TEAM\", \"CONF\", \"DIVISION\", \"GP\", \"PPG\", \"oPPG\", \"pDIFF\", \"PACE\", \"oEFF\", \"dEFF\", \n",
    "    \"W\", \"L\", \"WIN%\", \"SEASON\", \"embedding\"\n",
    "    \n",
    "    Also, here are unique values in some variables for reference and applying correct values in filters:\n",
    "    SEASON : [\"2017-2018\", \"2018-2019\", \"2019-2020\", \"2021-2022\", \"2022-2023\", \"2023-2024\", \"2024-2025\"]\n",
    "    CONF : [\"East\", \"West\"]\n",
    "    DIVISION : [\"Atlantic\", \"Central\", \"Northwest\", \"Pacific\", \"Southeast\", \"Southwest\"]\n",
    "    TEAM : [\"Atlanta\", \"Boston\", \"Brooklyn\", \"Charlotte\", \"Chicago\", \"Cleveland\", \"Dallas\", \"Denver\", \"Detroit\", \n",
    "         \"Golden State\", \"Houston\", \"Indiana\", \"LA Clippers\", \"LA Lakers\", \"Memphis\", \"Miami\", \"Milwaukee\", \n",
    "         \"Minnesota\", \"New Orleans\", \"New York\", \"Oklahoma City\", \"Orlando\", \"Philadelphia\", \"Phoenix\", \n",
    "         \"Portland\", \"Sacramento\", \"San Antonio\", \"Toronto\", \"Utah\", \"Washington\"]\n",
    "    \n",
    "    Feature \"dEFF\" is an inverse feature, meaning the higher the value the worse it is. So, the row with the highest value in that feautre would be worst,\n",
    "    the row with the lowest value would be best.\n",
    "    \n",
    "    For example,\n",
    "    Example 1 - How many entries of records are present? \n",
    "    The SQL command will be: SELECT COUNT(*) as No_of_Records FROM df_new;\n",
    "\n",
    "    Example 2 - Which five teams led the league in scoring during the 2022-2023 season?\n",
    "    The SQL command will be: SELECT TEAM, PPG FROM df_new WHERE SEASON = '2022-2023' ORDER BY PPG DESC LIMIT 5;\n",
    "    GROUP BY Race, Rural_Urban_Flag;\n",
    "\n",
    "    Example 3 - How mnany games did the LA Lakers play in 24/25?\n",
    "    The SQL command will be: SELECT GP FROM df_new WHERE team = 'LA Lakers' AND season = '2024-2025';\n",
    "\n",
    "    Example 4 - What was the LA Lakers record in 22/23?\n",
    "    The SQL command will be: SELECT TEAM, CONCAT(W, '-', L) AS RECORD FROM df_new WHERE team = 'LA Lakers' AND season = '2022-2023';\n",
    "\n",
    "    Make sure record is a combination of features W and L - as explained in Example 4 above.\n",
    "    Make sure the output is only the SQL query, without any explanation or markdown formatting.\n",
    "    Make sure it ignores the case of variable to filter in the select query.\n",
    "    If multiple variables are mentioned, please provide a group by query.\n",
    "    Please treat SEASON and Year as same keywords.\n",
    "\n",
    "    \"\"\"\n",
    "]\n"
   ]
  },
  {
   "cell_type": "code",
   "execution_count": 24,
   "id": "4ba109ea-4e73-4bc0-a0e2-e30cdbdf2dd5",
   "metadata": {},
   "outputs": [],
   "source": [
    "# Define your prompt for final outcome\n",
    "prompt_instruction = [\n",
    "    \"\"\"\n",
    "        Sir, you are a helpful assistant who turns data tables and questions into friendly and concise summaries.\n",
    "        \n",
    "        Add line breaks or '/n' wherever you feel should be there to make the response more readable. \n",
    "                        \n",
    "    \"\"\"\n",
    "]"
   ]
  },
  {
   "cell_type": "markdown",
   "id": "eb51eca6-721b-4af6-90f9-590631c28754",
   "metadata": {},
   "source": [
    "#### Define Questions to be Answered"
   ]
  },
  {
   "cell_type": "code",
   "execution_count": 21,
   "id": "332eb639-bd05-4d49-b8f8-e589bf0d0ab9",
   "metadata": {},
   "outputs": [],
   "source": [
    "# question = \"What team led the leage in defensive efficiency during the 24/25 season, what team ranked worst in defensive efficiency that same year, and what was the difference between the two?\"\n",
    "# question2 = \"What team led the leage in defensive efficiency during the 24/25 season, what team ranked worst in defensive efficiency that same year, and what was the difference between the two?\"\n",
    "# question3 = \"What was the Knicks record in 2022-2023 compared to their record in 2023-2024? What was the differenfce in games won?\""
   ]
  },
  {
   "cell_type": "code",
   "execution_count": 22,
   "id": "c20b9ffd-acf9-4166-98d2-8205f039e9ff",
   "metadata": {},
   "outputs": [
    {
     "name": "stdout",
     "output_type": "stream",
     "text": [
      "SELECT TEAM, SEASON, CONCAT(W, '-', L) AS RECORD, W AS GAMES_WON FROM df_new WHERE TEAM = 'New York' AND SEASON IN ('2022-2023', '2023-2024') GROUP BY TEAM, SEASON;\n"
     ]
    }
   ],
   "source": [
    "sql_query = get_openai_response(question, prompt)\n",
    "print(sql_query)"
   ]
  },
  {
   "cell_type": "code",
   "execution_count": 23,
   "id": "a634da81-de58-4534-9cde-7ef5e662814c",
   "metadata": {},
   "outputs": [],
   "source": [
    "result_df = run_sql_query(sql_query, df_new)"
   ]
  },
  {
   "cell_type": "markdown",
   "id": "a2c73306-6a5e-4b32-bfe5-de529e2ec5cc",
   "metadata": {},
   "source": [
    "#### Function to Generate LLM Response"
   ]
  },
  {
   "cell_type": "code",
   "execution_count": 25,
   "id": "980fc87f-ce48-4076-880e-e772b2850d02",
   "metadata": {},
   "outputs": [],
   "source": [
    "def generate_natural_language_summary(question, result_df, prompt_instruction):\n",
    "    table_text = result_df.to_markdown(index=False)\n",
    " \n",
    "    # Build system and user messages\n",
    "    messages = [\n",
    "        {\"role\": \"system\", \"content\": prompt_instruction},\n",
    "        {\"role\": \"user\", \"content\": f\"User question: {question}\\n\\nHere is the data:\\n{table_text}\\n\\nPlease summarize this in clear, human-readable English.\"}\n",
    "    ]\n",
    "    \n",
    "    # Make API call\n",
    "    response = openai.ChatCompletion.create(\n",
    "        engine=AZURE_OPENAI_CHAT_DEPLOYMENT,  # Use your Azure chat deployment name\n",
    "        messages=messages,\n",
    "        temperature=0.3,\n",
    "        max_tokens=430\n",
    "    )\n",
    "    \n",
    "    return response['choices'][0]['message']['content'].strip()\n"
   ]
  },
  {
   "cell_type": "markdown",
   "id": "aebffe58-b16c-4d75-9664-1a97be0e3576",
   "metadata": {},
   "source": [
    "#### Print Questions and LLM Responses"
   ]
  },
  {
   "cell_type": "code",
   "execution_count": 43,
   "id": "e103d0ec-fa98-4363-bd4f-c29ac40d069e",
   "metadata": {},
   "outputs": [
    {
     "data": {
      "text/html": [
       "<b>Question:</b> Which 5 teams led the league in scoring during the 2019/2020 season?"
      ],
      "text/plain": [
       "<IPython.core.display.HTML object>"
      ]
     },
     "metadata": {},
     "output_type": "display_data"
    },
    {
     "data": {
      "text/html": [
       "<b>AskAdam Response:</b> During the 2019/2020 NBA season, the top five teams in scoring, based on points per game (PPG), were:\n",
       "\n",
       "1. **Milwaukee Bucks**: Led the league with 118.7 PPG.  \n",
       "2. **Houston Rockets**: Scored 117.8 PPG.  \n",
       "3. **Dallas Mavericks**: Averaged 117 PPG.  \n",
       "4. **LA Clippers**: Posted 116.3 PPG.  \n",
       "5. **New Orleans Pelicans**: Rounded out the top five with 115.8 PPG.  \n",
       "\n",
       "These teams showcased impressive offensive performances throughout the season!"
      ],
      "text/plain": [
       "<IPython.core.display.HTML object>"
      ]
     },
     "metadata": {},
     "output_type": "display_data"
    }
   ],
   "source": [
    "response_for_ui = generate_natural_language_summary(question, result_df, prompt_instruction[0])\n",
    "display(HTML(f\"<b>Question:</b> {question}\"))\n",
    "display(HTML(f\"<b>AskAdam Response:</b> {response_for_ui}\"))"
   ]
  },
  {
   "cell_type": "code",
   "execution_count": 16,
   "id": "d17d26c4-7e38-47d6-8aa1-3644acde8214",
   "metadata": {},
   "outputs": [
    {
     "data": {
      "text/html": [
       "<b>Question:</b> What team led the leage in defensive efficiency during the 24/25 season, what team ranked worst in defensive efficiency that same year, and what was the difference between the two?"
      ],
      "text/plain": [
       "<IPython.core.display.HTML object>"
      ]
     },
     "metadata": {},
     "output_type": "display_data"
    },
    {
     "data": {
      "text/html": [
       "<b>AskAdam Response:</b> During the 2024/25 season, Oklahoma City led the league in defensive efficiency, while Utah ranked worst in this category. \n",
       "\n",
       "The difference in defensive efficiency between the two teams was 13.4."
      ],
      "text/plain": [
       "<IPython.core.display.HTML object>"
      ]
     },
     "metadata": {},
     "output_type": "display_data"
    }
   ],
   "source": [
    "response_for_ui = generate_natural_language_summary(question, result_df, prompt_instruction[0])\n",
    "display(HTML(f\"<b>Question:</b> {question}\"))\n",
    "display(HTML(f\"<b>AskAdam Response:</b> {response_for_ui}\"))"
   ]
  },
  {
   "cell_type": "code",
   "execution_count": 26,
   "id": "ca957e90-5873-4787-aa26-5e048be2e32b",
   "metadata": {},
   "outputs": [
    {
     "data": {
      "text/html": [
       "<b>Question:</b> What was the Knicks record in 2022-2023 compared to their record in 2023-2024? What was the differenfce in games won?"
      ],
      "text/plain": [
       "<IPython.core.display.HTML object>"
      ]
     },
     "metadata": {},
     "output_type": "display_data"
    },
    {
     "data": {
      "text/html": [
       "<b>AskAdam Response:</b> In the 2022-2023 season, the New York Knicks had a record of 47-35, winning 47 games. \n",
       "\n",
       "In the 2023-2024 season, their record improved to 50-32, with 50 games won. \n",
       "\n",
       "The difference in games won between the two seasons is 3 games, with the Knicks winning 3 more games in 2023-2024 compared to the previous season."
      ],
      "text/plain": [
       "<IPython.core.display.HTML object>"
      ]
     },
     "metadata": {},
     "output_type": "display_data"
    }
   ],
   "source": [
    "response_for_ui = generate_natural_language_summary(question, result_df, prompt_instruction[0])\n",
    "display(HTML(f\"<b>Question:</b> {question}\"))\n",
    "display(HTML(f\"<b>AskAdam Response:</b> {response_for_ui}\"))"
   ]
  }
 ],
 "metadata": {
  "kernelspec": {
   "display_name": "Python 3 (ipykernel)",
   "language": "python",
   "name": "python3"
  },
  "language_info": {
   "codemirror_mode": {
    "name": "ipython",
    "version": 3
   },
   "file_extension": ".py",
   "mimetype": "text/x-python",
   "name": "python",
   "nbconvert_exporter": "python",
   "pygments_lexer": "ipython3",
   "version": "3.11.9"
  }
 },
 "nbformat": 4,
 "nbformat_minor": 5
}
