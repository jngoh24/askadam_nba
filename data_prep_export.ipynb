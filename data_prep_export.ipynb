{
 "cells": [
  {
   "cell_type": "markdown",
   "metadata": {
    "application/vnd.databricks.v1+cell": {
     "cellMetadata": {},
     "inputWidgets": {},
     "nuid": "9363c293-86f8-4084-a964-49ad0f76fc46",
     "showTitle": false,
     "tableResultSettingsMap": {},
     "title": ""
    }
   },
   "source": [
    "#### Import Necessary Packages"
   ]
  },
  {
   "cell_type": "code",
   "execution_count": 0,
   "metadata": {
    "application/vnd.databricks.v1+cell": {
     "cellMetadata": {
      "byteLimit": 2048000,
      "rowLimit": 10000
     },
     "inputWidgets": {},
     "nuid": "bfc21e9d-c6e2-492b-99eb-52e669892ddd",
     "showTitle": false,
     "tableResultSettingsMap": {},
     "title": ""
    }
   },
   "outputs": [],
   "source": [
    "import requests\n",
    "from bs4 import BeautifulSoup\n",
    "import pandas as pd\n",
    "from pyspark.sql.functions import regexp_extract\n",
    "from pyspark.sql.functions import col, count, upper"
   ]
  },
  {
   "cell_type": "code",
   "execution_count": 0,
   "metadata": {
    "application/vnd.databricks.v1+cell": {
     "cellMetadata": {
      "byteLimit": 2048000,
      "rowLimit": 10000
     },
     "inputWidgets": {},
     "nuid": "694aa691-9084-4c6f-9a8a-d2aad24fe237",
     "showTitle": false,
     "tableResultSettingsMap": {},
     "title": ""
    }
   },
   "outputs": [],
   "source": [
    "teams = spark.read.csv(\"21.22_teamdata.csv\", header=True, inferSchema=True)\n",
    "\n",
    "teams_abbrv = teams.select(\"TEAM\", \"TEAM_ABBRV\")"
   ]
  },
  {
   "cell_type": "markdown",
   "metadata": {
    "application/vnd.databricks.v1+cell": {
     "cellMetadata": {},
     "inputWidgets": {},
     "nuid": "fcc57f77-79d2-4315-829d-71749b14d6e8",
     "showTitle": false,
     "tableResultSettingsMap": {},
     "title": ""
    }
   },
   "source": [
    "#### Save Necessary HTML Webpages"
   ]
  },
  {
   "cell_type": "code",
   "execution_count": 0,
   "metadata": {
    "application/vnd.databricks.v1+cell": {
     "cellMetadata": {},
     "inputWidgets": {},
     "nuid": "806b5b26-a796-4c61-9c0b-015f6580753e",
     "showTitle": false,
     "tableResultSettingsMap": {},
     "title": ""
    }
   },
   "outputs": [],
   "source": [
    "years = list(range(2017, 2025))"
   ]
  },
  {
   "cell_type": "code",
   "execution_count": 0,
   "metadata": {
    "application/vnd.databricks.v1+cell": {
     "cellMetadata": {},
     "inputWidgets": {},
     "nuid": "a637cb7d-0d6d-4204-94c6-4d778da3626b",
     "showTitle": false,
     "tableResultSettingsMap": {},
     "title": ""
    }
   },
   "outputs": [],
   "source": [
    "url_start = \"https://www.nbastuffer.com/{}-{}-nba-team-stats/\""
   ]
  },
  {
   "cell_type": "code",
   "execution_count": 0,
   "metadata": {
    "application/vnd.databricks.v1+cell": {
     "cellMetadata": {},
     "inputWidgets": {},
     "nuid": "c809c971-fae8-4019-b8b3-fb30f07b59c4",
     "showTitle": false,
     "tableResultSettingsMap": {},
     "title": ""
    }
   },
   "outputs": [],
   "source": [
    "for year in years:\n",
    "    url = url_start.format(year, year+1)\n",
    "    data = requests.get(url)\n",
    "\n",
    "    with open (\"{year}.html\", \"w\") as f:\n",
    "        f.write(data.text)"
   ]
  },
  {
   "cell_type": "markdown",
   "metadata": {
    "application/vnd.databricks.v1+cell": {
     "cellMetadata": {},
     "inputWidgets": {},
     "nuid": "d122d5f6-5fab-4b62-bd7b-a846325b253a",
     "showTitle": false,
     "tableResultSettingsMap": {},
     "title": ""
    }
   },
   "source": [
    "#### Load Necessary HTML Webpages"
   ]
  },
  {
   "cell_type": "code",
   "execution_count": 0,
   "metadata": {
    "application/vnd.databricks.v1+cell": {
     "cellMetadata": {
      "byteLimit": 2048000,
      "rowLimit": 10000
     },
     "inputWidgets": {},
     "nuid": "67e61017-a232-4f0e-bc82-b8765d2f8642",
     "showTitle": false,
     "tableResultSettingsMap": {},
     "title": ""
    }
   },
   "outputs": [],
   "source": [
    "with open (f\"/dbfs/mnt/2017.html\", \"r\") as f:\n",
    "    page = f.read()\n",
    "\n",
    "with open (f\"/dbfs/mnt/2018.html\", \"r\") as f:\n",
    "    page1 = f.read()\n",
    "\n",
    "with open (f\"/dbfs/mnt/2019.html\", \"r\") as f:\n",
    "    page2 = f.read()\n",
    "\n",
    "with open (f\"/dbfs/mnt/2020.html\", \"r\") as f:\n",
    "    page3 = f.read()\n",
    "\n",
    "with open (f\"/dbfs/mnt/2021.html\", \"r\") as f:\n",
    "    page4 = f.read()\n",
    "\n",
    "with open (f\"/dbfs/mnt/2022.html\", \"r\") as f:\n",
    "    page5 = f.read()\n",
    "\n",
    "with open (f\"/dbfs/mnt/2023.html\", \"r\") as f:\n",
    "    page6 = f.read()\n",
    "\n",
    "with open (f\"/dbfs/mnt/2024.html\", \"r\") as f:\n",
    "    page7 = f.read()"
   ]
  },
  {
   "cell_type": "markdown",
   "metadata": {
    "application/vnd.databricks.v1+cell": {
     "cellMetadata": {},
     "inputWidgets": {},
     "nuid": "c51b05ec-36be-4d31-819a-21f126f9bb3d",
     "showTitle": false,
     "tableResultSettingsMap": {},
     "title": ""
    }
   },
   "source": [
    "#### Webscrape Each Webpage and Save as DataFrame"
   ]
  },
  {
   "cell_type": "code",
   "execution_count": 0,
   "metadata": {
    "application/vnd.databricks.v1+cell": {
     "cellMetadata": {
      "byteLimit": 2048000,
      "rowLimit": 10000
     },
     "inputWidgets": {},
     "nuid": "57eca0dd-04d4-4a66-8d09-736930056c90",
     "showTitle": false,
     "tableResultSettingsMap": {},
     "title": ""
    }
   },
   "outputs": [],
   "source": [
    "soup = BeautifulSoup(page, \"html.parser\")\n",
    "soup.find(\"tr\", class_=\"row-1\").decompose()\n",
    "stats_table = soup.find(id=\"tablepress-9\")\n",
    "stats = pd.read_html(str(stats_table))[0]\n",
    "stats['year'] = \"2017-2018\"\n",
    "\n",
    "soup = BeautifulSoup(page1, \"html.parser\")\n",
    "soup.find(\"tr\", class_=\"row-1\").decompose()\n",
    "stats_table1 = soup.find(id=\"tablepress-26\")\n",
    "stats1 = pd.read_html(str(stats_table1))[0]\n",
    "stats1['year'] = \"2018-2019\"\n",
    "\n",
    "soup = BeautifulSoup(page2, \"html.parser\")\n",
    "soup.find(\"tr\", class_=\"row-1\").decompose()\n",
    "stats_table2 = soup.find(id=\"tablepress-49\")\n",
    "stats2 = pd.read_html(str(stats_table2))[0]\n",
    "stats2['year'] = \"2019-2020\"\n",
    "\n",
    "# soup = BeautifulSoup(page3, \"html.parser\")\n",
    "# soup.find(\"tr\", class_=\"row-1\").decompose()\n",
    "# stats_table3 = soup.find(id=\"tablepress-9\")\n",
    "# stats3 = pd.read_html(str(stats_table3))[0]\n",
    "# stats3['year'] = \"2020-2021\"\n",
    "\n",
    "soup = BeautifulSoup(page4, \"html.parser\")\n",
    "soup.find(\"tr\", class_=\"row-1\").decompose()\n",
    "stats_table4 = soup.find(id=\"tablepress-78\")\n",
    "stats4 = pd.read_html(str(stats_table4))[0]\n",
    "stats4['year'] = \"2021-2022\"\n",
    "\n",
    "soup = BeautifulSoup(page5, \"html.parser\")\n",
    "# soup.find(\"tr\", class_=\"row-1\").decompose()\n",
    "stats_table5 = soup.find(id=\"tablepress-95\")\n",
    "stats5 = pd.read_html(str(stats_table5))[0]\n",
    "stats5['year'] = \"2022-2023\"\n",
    "\n",
    "soup = BeautifulSoup(page6, \"html.parser\")\n",
    "# soup.find(\"tr\", class_=\"row-1\").decompose()\n",
    "stats_table6 = soup.find(id=\"tablepress-109\")\n",
    "stats6 = pd.read_html(str(stats_table6))[0]\n",
    "stats6['year'] = \"2023-2024\"\n",
    "\n",
    "soup = BeautifulSoup(page7, \"html.parser\")\n",
    "# soup.find(\"tr\", class_=\"row-1\").decompose()\n",
    "stats_table7 = soup.find(id=\"tablepress-122\")\n",
    "stats7 = pd.read_html(str(stats_table7))[0]\n",
    "stats7['year'] = \"2024-2025\""
   ]
  },
  {
   "cell_type": "code",
   "execution_count": 0,
   "metadata": {
    "application/vnd.databricks.v1+cell": {
     "cellMetadata": {
      "byteLimit": 2048000,
      "rowLimit": 10000
     },
     "inputWidgets": {},
     "nuid": "d3033433-bfda-44bb-bf8f-d99dd54f1648",
     "showTitle": false,
     "tableResultSettingsMap": {},
     "title": ""
    }
   },
   "outputs": [],
   "source": [
    "stats_df = spark.createDataFrame(stats)\n",
    "stats1_df = spark.createDataFrame(stats1)\n",
    "stats2_df = spark.createDataFrame(stats2)\n",
    "stats4_df = spark.createDataFrame(stats4)\n",
    "stats5_df = spark.createDataFrame(stats5)\n",
    "stats6_df = spark.createDataFrame(stats6)\n",
    "stats7_df = spark.createDataFrame(stats7)"
   ]
  },
  {
   "cell_type": "markdown",
   "metadata": {
    "application/vnd.databricks.v1+cell": {
     "cellMetadata": {},
     "inputWidgets": {},
     "nuid": "fb0dde64-dce1-41d9-a9da-f2caf186cc5c",
     "showTitle": false,
     "tableResultSettingsMap": {},
     "title": ""
    }
   },
   "source": [
    "#### Clean Data and Select Pertinent Variables"
   ]
  },
  {
   "cell_type": "code",
   "execution_count": 0,
   "metadata": {
    "application/vnd.databricks.v1+cell": {
     "cellMetadata": {
      "byteLimit": 2048000,
      "rowLimit": 10000
     },
     "inputWidgets": {},
     "nuid": "258415c9-17c1-4262-93f8-9ecdb6f51230",
     "showTitle": false,
     "tableResultSettingsMap": {},
     "title": ""
    }
   },
   "outputs": [],
   "source": [
    "\n",
    "stats_df = stats_df.withColumn(\"TEAM\", regexp_extract(stats_df[\"TEAM\"], r\"\\](.*?)\\[/\", 1))\n",
    "stats1_df = stats1_df.withColumn(\"TEAM\", regexp_extract(stats1_df[\"TEAM\"], r\"\\](.*?)\\[/\", 1))\n",
    "stats2_df = stats2_df.withColumn(\"TEAM\", regexp_extract(stats2_df[\"TEAM\"], r\"\\](.*?)\\[/\", 1))\n",
    "stats4_df = stats4_df.withColumn(\"TEAM\", regexp_extract(stats4_df[\"TEAM\"], r\"\\](.*?)\\[/\", 1))"
   ]
  },
  {
   "cell_type": "code",
   "execution_count": 0,
   "metadata": {
    "application/vnd.databricks.v1+cell": {
     "cellMetadata": {
      "byteLimit": 2048000,
      "rowLimit": 10000
     },
     "inputWidgets": {},
     "nuid": "662ca46c-f978-403a-a9fb-10782d81222d",
     "showTitle": false,
     "tableResultSettingsMap": {},
     "title": ""
    }
   },
   "outputs": [],
   "source": [
    "stats5_df = stats5_df.withColumnRenamed(\"TEAM\", \"TEAM_ABBRV\")\n",
    "stats5_df = stats5_df.join(teams_abbrv, on=\"TEAM_ABBRV\", how=\"left\")\n",
    "stats5_df = stats5_df.drop(\"TEAM_ABBRV\")\n",
    "stats5_df = stats5_df.select('RANK','TEAM','CONF', 'DIVISION', 'GP', 'PPG', 'oPPG', 'pDIFF', 'PACE', 'oEFF', 'dEFF', 'eDIFF', 'SoS', 'rSoS', 'SAR', 'CONS', 'A4F', 'W', 'L', 'WIN%', 'eWIN%', 'pWIN%', 'ACH', 'STRK', 'Year')"
   ]
  },
  {
   "cell_type": "code",
   "execution_count": 0,
   "metadata": {
    "application/vnd.databricks.v1+cell": {
     "cellMetadata": {
      "byteLimit": 2048000,
      "rowLimit": 10000
     },
     "inputWidgets": {},
     "nuid": "065de3a5-4323-4645-ac66-097a9442a6b3",
     "showTitle": false,
     "tableResultSettingsMap": {},
     "title": ""
    }
   },
   "outputs": [],
   "source": [
    "master = stats7_df.union(stats6_df).union(stats5_df).union(stats4_df).union(stats2_df).union(stats1_df).union(stats_df)"
   ]
  },
  {
   "cell_type": "code",
   "execution_count": 0,
   "metadata": {
    "application/vnd.databricks.v1+cell": {
     "cellMetadata": {
      "byteLimit": 2048000,
      "rowLimit": 10000
     },
     "inputWidgets": {},
     "nuid": "866fd181-5c8a-4b2d-b083-64067e4f7af9",
     "showTitle": false,
     "tableResultSettingsMap": {},
     "title": ""
    }
   },
   "outputs": [],
   "source": [
    "master_teamdata = master.drop(\"RANK\")"
   ]
  },
  {
   "cell_type": "markdown",
   "metadata": {
    "application/vnd.databricks.v1+cell": {
     "cellMetadata": {},
     "inputWidgets": {},
     "nuid": "36c5208f-344a-4d5a-a5d3-ad0dfe88ba8a",
     "showTitle": false,
     "tableResultSettingsMap": {},
     "title": ""
    }
   },
   "source": [
    "#### Save Dataframe as CSV"
   ]
  },
  {
   "cell_type": "code",
   "execution_count": 0,
   "metadata": {
    "application/vnd.databricks.v1+cell": {
     "cellMetadata": {
      "byteLimit": 2048000,
      "rowLimit": 10000
     },
     "inputWidgets": {},
     "nuid": "01f4e7c4-17bc-4eaa-b922-10df807ac495",
     "showTitle": false,
     "tableResultSettingsMap": {},
     "title": ""
    }
   },
   "outputs": [],
   "source": [
    "master_teamdata.coalesce(1).write.mode(\"overwrite\").option(\"header\", \"true\").csv(\"master_agent_data.csv\")"
   ]
  }
 ],
 "metadata": {
  "application/vnd.databricks.v1+notebook": {
   "computePreferences": null,
   "dashboards": [],
   "environmentMetadata": {
    "base_environment": "",
    "environment_version": "2"
   },
   "inputWidgetPreferences": null,
   "language": "python",
   "notebookMetadata": {
    "pythonIndentUnit": 4
   },
   "notebookName": "data_prep_export",
   "widgets": {}
  },
  "language_info": {
   "name": "python"
  }
 },
 "nbformat": 4,
 "nbformat_minor": 0
}